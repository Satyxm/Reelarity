{
 "cells": [
  {
   "cell_type": "code",
   "execution_count": null,
   "id": "56862225-0018-4d16-a6d2-2e64438eb7b3",
   "metadata": {},
   "outputs": [],
   "source": [
    "import pandas as pd\n"
   ]
  },
  {
   "cell_type": "code",
   "execution_count": null,
   "id": "ffd6d69d-d8aa-4875-9e1e-504c5b16c14f",
   "metadata": {},
   "outputs": [],
   "source": [
    "mov = pd.read_csv(\"tmdb_5000_movies.csv\")\n",
    "cred = pd.read_csv(\"tmdb_5000_credits.csv\")"
   ]
  },
  {
   "cell_type": "code",
   "execution_count": null,
   "id": "eafbb951-97f6-4468-a40f-82d4a94c8617",
   "metadata": {},
   "outputs": [],
   "source": [
    "mov.head(2)"
   ]
  },
  {
   "cell_type": "code",
   "execution_count": null,
   "id": "abeca2f0-c6a8-49d3-98d6-bcc423fd817b",
   "metadata": {},
   "outputs": [],
   "source": [
    "mov.shape"
   ]
  },
  {
   "cell_type": "code",
   "execution_count": null,
   "id": "0f67189e-e2d8-4bdb-a251-e9c8316082b9",
   "metadata": {},
   "outputs": [],
   "source": [
    "cred.head()"
   ]
  },
  {
   "cell_type": "code",
   "execution_count": null,
   "id": "a2f3b4c7-d827-4dec-8d1e-ed96528662e0",
   "metadata": {},
   "outputs": [],
   "source": [
    "cred.shape"
   ]
  },
  {
   "cell_type": "code",
   "execution_count": null,
   "id": "3b265c0a-0444-456b-a19e-382580a48ffe",
   "metadata": {},
   "outputs": [],
   "source": [
    "cred.rename(columns={'title': 'original_title'}, inplace=True)"
   ]
  },
  {
   "cell_type": "code",
   "execution_count": null,
   "id": "7bab951a-2df1-45d3-a3c1-14e9e18009e5",
   "metadata": {},
   "outputs": [],
   "source": [
    "mov = mov.merge(cred, on=\"original_title\")"
   ]
  },
  {
   "cell_type": "code",
   "execution_count": null,
   "id": "6cad5adc-55c2-4c24-ad18-174d5a1417af",
   "metadata": {},
   "outputs": [],
   "source": [
    "mov.head(2)"
   ]
  },
  {
   "cell_type": "code",
   "execution_count": null,
   "id": "98b69b28-005c-4a74-ad85-10eee4be258f",
   "metadata": {},
   "outputs": [],
   "source": [
    "mov = mov[['budget', 'homepage', 'id', 'original_language', 'original_title' , 'genres', 'popularity', 'production_companies', 'cast', 'crew']]"
   ]
  },
  {
   "cell_type": "code",
   "execution_count": null,
   "id": "b303b196-6449-41c7-9f94-819b81941352",
   "metadata": {},
   "outputs": [],
   "source": [
    "mov.head()"
   ]
  },
  {
   "cell_type": "code",
   "execution_count": null,
   "id": "5fd360e9-7b6c-4beb-baee-3c8358a8e1b1",
   "metadata": {},
   "outputs": [],
   "source": [
    "import ast"
   ]
  },
  {
   "cell_type": "code",
   "execution_count": null,
   "id": "5d62bb0f-046b-486a-9941-97cc46b2f1b5",
   "metadata": {},
   "outputs": [],
   "source": [
    "def convert(text):\n",
    "    L = []\n",
    "    for i in ast.literal_eval(text):\n",
    "        L.append(i['name'])\n",
    "    return L"
   ]
  },
  {
   "cell_type": "code",
   "execution_count": null,
   "id": "f5adeb72-96bc-485d-ab42-0c51adfe1e6a",
   "metadata": {},
   "outputs": [],
   "source": [
    "mov.dropna(inplace=True)"
   ]
  },
  {
   "cell_type": "code",
   "execution_count": null,
   "id": "7a81073b-fab8-45b9-abd5-b09d83ea8e66",
   "metadata": {},
   "outputs": [],
   "source": [
    "mov['genres'] = mov['genres'].apply(convert) \n",
    "mov.head()"
   ]
  },
  {
   "cell_type": "code",
   "execution_count": null,
   "id": "6a0f171e-a318-4af5-87f4-59e7bb991512",
   "metadata": {},
   "outputs": [],
   "source": [
    "def convert3(text):\n",
    "    L = []\n",
    "    count = 0\n",
    "    for i in ast.literal_eval(text):\n",
    "        if count < 3: \n",
    "             L.append(i['name'])\n",
    "             count += 1\n",
    "    return L"
   ]
  },
  {
   "cell_type": "code",
   "execution_count": null,
   "id": "ab337f1c-e059-445e-a3b8-a8042c8475dc",
   "metadata": {},
   "outputs": [],
   "source": [
    "mov['cast'] = mov['cast'].apply(convert3)\n",
    "mov.head()"
   ]
  },
  {
   "cell_type": "code",
   "execution_count": null,
   "id": "d3ffa3de-8e6c-4477-8e9e-8116576bbc49",
   "metadata": {},
   "outputs": [],
   "source": [
    "def fetch_dir(text):\n",
    "    L = []\n",
    "    for i in ast.literal_eval(text):\n",
    "        if i['job'] == 'Director':\n",
    "            L.append(i['name'])\n",
    "    return L"
   ]
  },
  {
   "cell_type": "code",
   "execution_count": null,
   "id": "2764df8d-bc19-4f81-badd-1cf301fdb9d9",
   "metadata": {},
   "outputs": [],
   "source": [
    "mov['crew'] = mov['crew'].apply(fetch_dir) "
   ]
  },
  {
   "cell_type": "code",
   "execution_count": null,
   "id": "09921654-6550-4f59-abfc-3cb0b0bd5d16",
   "metadata": {},
   "outputs": [],
   "source": [
    "mov.head()"
   ]
  },
  {
   "cell_type": "code",
   "execution_count": null,
   "id": "4e55d2b1-93d5-4875-b9eb-6e1c32c93712",
   "metadata": {},
   "outputs": [],
   "source": [
    "def fetch_prod(text):\n",
    "    L = []\n",
    "    for i in ast.literal_eval(text):\n",
    "        L.append(i['name'])\n",
    "    return L"
   ]
  },
  {
   "cell_type": "code",
   "execution_count": null,
   "id": "d51df86f-4a4d-4419-8a9e-fdd235c0ebdd",
   "metadata": {},
   "outputs": [],
   "source": [
    "mov['production_companies'] = mov['production_companies'].apply(fetch_prod) "
   ]
  },
  {
   "cell_type": "code",
   "execution_count": null,
   "id": "7925a435-a5fc-45b6-bb72-db2c4aa34cb8",
   "metadata": {},
   "outputs": [],
   "source": [
    "mov.head()"
   ]
  },
  {
   "cell_type": "code",
   "execution_count": null,
   "id": "610c6b88-9c12-42d2-a62f-134747a189ad",
   "metadata": {},
   "outputs": [],
   "source": [
    "def remGap(L):\n",
    "    L1 = []\n",
    "    for i in L:\n",
    "        L1. append(i.replace(\" \", \"\"))\n",
    "\n",
    "    return L1\n",
    "    "
   ]
  },
  {
   "cell_type": "code",
   "execution_count": null,
   "id": "71b03d69-3de5-444a-8230-1c9577b52355",
   "metadata": {},
   "outputs": [],
   "source": [
    "mov[\"cast\"] = mov[\"cast\"].apply(remGap)\n",
    "mov[\"crew\"] = mov[\"crew\"].apply(remGap)\n",
    "mov[\"genres\"] = mov[\"genres\"].apply(remGap)\n",
    "mov[\"production_companies\"] = mov[\"production_companies\"].apply(remGap)"
   ]
  },
  {
   "cell_type": "code",
   "execution_count": null,
   "id": "0fc42d30-bfe7-42eb-a8bf-2444ee6b1954",
   "metadata": {},
   "outputs": [],
   "source": [
    "mov.head()"
   ]
  },
  {
   "cell_type": "code",
   "execution_count": null,
   "id": "225a1b38-7d57-452d-98a5-890aa3a3819d",
   "metadata": {},
   "outputs": [],
   "source": [
    "mov['tags'] = mov['genres'] + mov['cast'] + mov['crew'] + mov['production_companies']"
   ]
  },
  {
   "cell_type": "code",
   "execution_count": null,
   "id": "b444f157-a1d5-4383-b5d0-16335d67ef1c",
   "metadata": {},
   "outputs": [],
   "source": [
    "new = mov.drop(columns = ['genres', 'cast', 'crew'])"
   ]
  },
  {
   "cell_type": "code",
   "execution_count": null,
   "id": "afe4c4aa-0c1c-4c33-8241-e82f2a9df508",
   "metadata": {},
   "outputs": [],
   "source": [
    "new['tags'] = new['tags'].apply(lambda x: \" \".join(x))\n",
    "new.head()"
   ]
  },
  {
   "cell_type": "code",
   "execution_count": null,
   "id": "4f3cdb5a-8c19-48c3-91d2-81921c7e3383",
   "metadata": {},
   "outputs": [],
   "source": [
    "from sklearn.feature_extraction.text import CountVectorizer\n",
    "cv = CountVectorizer(max_features = 5000, stop_words = \"english\")"
   ]
  },
  {
   "cell_type": "code",
   "execution_count": null,
   "id": "d4c155dc",
   "metadata": {},
   "outputs": [],
   "source": [
    "vector = cv.fit_transform(new['tags']).toarray()"
   ]
  },
  {
   "cell_type": "code",
   "execution_count": null,
   "id": "9a1fd0f0",
   "metadata": {},
   "outputs": [],
   "source": [
    "from sklearn.metrics.pairwise import cosine_similarity"
   ]
  },
  {
   "cell_type": "code",
   "execution_count": null,
   "id": "ad0e184c",
   "metadata": {},
   "outputs": [],
   "source": [
    "similarity = cosine_similarity(vector)"
   ]
  },
  {
   "cell_type": "code",
   "execution_count": null,
   "id": "d7019ce6",
   "metadata": {},
   "outputs": [],
   "source": [
    "new[new['original_title'] == 'Batman Begins'].index[0]"
   ]
  },
  {
   "cell_type": "code",
   "execution_count": null,
   "id": "b00e3376",
   "metadata": {},
   "outputs": [],
   "source": [
    "def recommend(mov):\n",
    "    if mov not in new['original_title'].values:\n",
    "        print(f\"Movie '{mov}' not found in the dataset.\")\n",
    "        return\n",
    "\n",
    "    index = new[new['original_title'] == mov].index[0]\n",
    "    distances = sorted(list(enumerate(similarity[index])), reverse=True, key=lambda x: x[1])\n",
    "    \n",
    "    for i in distances[1:6]:\n",
    "        print(new.iloc[i[0]].original_title)\n"
   ]
  },
  {
   "cell_type": "code",
   "execution_count": null,
   "id": "ee0f31d4",
   "metadata": {},
   "outputs": [],
   "source": [
    "recommend('Shrek')\n"
   ]
  },
  {
   "cell_type": "code",
   "execution_count": null,
   "id": "c932a0ca",
   "metadata": {},
   "outputs": [],
   "source": [
    "new.iloc[1206].original_title"
   ]
  },
  {
   "cell_type": "code",
   "execution_count": null,
   "id": "9605b2db",
   "metadata": {},
   "outputs": [],
   "source": [
    "import pickle"
   ]
  },
  {
   "cell_type": "code",
   "execution_count": null,
   "id": "a9daaddb",
   "metadata": {},
   "outputs": [],
   "source": [
    "pickle.dump(similarity, open('similarity.pkl', 'wb'))"
   ]
  }
 ],
 "metadata": {
  "kernelspec": {
   "display_name": "Python 3 (ipykernel)",
   "language": "python",
   "name": "python3"
  },
  "language_info": {
   "codemirror_mode": {
    "name": "ipython",
    "version": 3
   },
   "file_extension": ".py",
   "mimetype": "text/x-python",
   "name": "python",
   "nbconvert_exporter": "python",
   "pygments_lexer": "ipython3",
   "version": "3.10.12"
  }
 },
 "nbformat": 4,
 "nbformat_minor": 5
}
